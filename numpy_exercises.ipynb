{
 "cells": [
  {
   "cell_type": "code",
   "execution_count": 2,
   "id": "bdc08874",
   "metadata": {},
   "outputs": [],
   "source": [
    "import numpy as np"
   ]
  },
  {
   "cell_type": "code",
   "execution_count": 3,
   "id": "3850f4e6",
   "metadata": {},
   "outputs": [],
   "source": [
    "a = np.array([4, 10, 12, 23, -2, -1, 0, 0, 0, -6, 3, -7])"
   ]
  },
  {
   "cell_type": "code",
   "execution_count": 5,
   "id": "6a53983f",
   "metadata": {},
   "outputs": [
    {
     "data": {
      "text/plain": [
       "array([-2, -1, -6, -7])"
      ]
     },
     "execution_count": 5,
     "metadata": {},
     "output_type": "execute_result"
    }
   ],
   "source": [
    "# How many negtive numbers are there?\n",
    "\n",
    "a[a < 0]"
   ]
  },
  {
   "cell_type": "code",
   "execution_count": 18,
   "id": "84ac8c1c",
   "metadata": {},
   "outputs": [
    {
     "data": {
      "text/plain": [
       "array([ 4, 10, 12, 23,  3])"
      ]
     },
     "execution_count": 18,
     "metadata": {},
     "output_type": "execute_result"
    }
   ],
   "source": [
    "# How many positive numbers are there?\n",
    "\n",
    "only_pos = a[a > 0]\n",
    "only_pos"
   ]
  },
  {
   "cell_type": "code",
   "execution_count": 19,
   "id": "b36b26eb",
   "metadata": {},
   "outputs": [
    {
     "data": {
      "text/plain": [
       "array([ 4, 10, 12])"
      ]
     },
     "execution_count": 19,
     "metadata": {},
     "output_type": "execute_result"
    }
   ],
   "source": [
    "# How many even positive numbers are there?\n",
    "\n",
    "only_pos[only_pos % 2 ==0]"
   ]
  },
  {
   "cell_type": "code",
   "execution_count": 25,
   "id": "54c55e9b",
   "metadata": {},
   "outputs": [
    {
     "data": {
      "text/plain": [
       "array([ 7, 13, 15, 26,  1,  2,  3,  3,  3,  6])"
      ]
     },
     "execution_count": 25,
     "metadata": {},
     "output_type": "execute_result"
    }
   ],
   "source": [
    "# If you were to add 3 to each data point, how many positive numbers would there be?\n",
    "\n",
    "new_a = a + 3\n",
    "new_a[new_a > 0]"
   ]
  },
  {
   "cell_type": "code",
   "execution_count": 26,
   "id": "2e132336",
   "metadata": {},
   "outputs": [
    {
     "data": {
      "text/plain": [
       "(74.0, 144.0243035046516)"
      ]
     },
     "execution_count": 26,
     "metadata": {},
     "output_type": "execute_result"
    }
   ],
   "source": [
    "# If you squared each number, what would the new mean and standard deviation be?\n",
    "\n",
    "new_a = a**2\n",
    "new_a.mean(), new_a.std()"
   ]
  },
  {
   "cell_type": "code",
   "execution_count": 28,
   "id": "79875c6e",
   "metadata": {},
   "outputs": [
    {
     "data": {
      "text/plain": [
       "0.0"
      ]
     },
     "execution_count": 28,
     "metadata": {},
     "output_type": "execute_result"
    }
   ],
   "source": [
    "# A common statistical operation on a dataset is centering. \n",
    "# This means to adjust the data such that the mean of the data is 0. \n",
    "# This is done by subtracting the mean from each data point. Center the data set. \n",
    "# See this link for more on centering.\n",
    "\n",
    "x = a.mean()\n",
    "new_a = a - x\n",
    "new_a.mean()"
   ]
  },
  {
   "cell_type": "code",
   "execution_count": 30,
   "id": "3cddbbd0",
   "metadata": {},
   "outputs": [
    {
     "data": {
      "text/plain": [
       "array([ 0.12403473,  0.86824314,  1.11631261,  2.48069469, -0.62017367,\n",
       "       -0.49613894, -0.3721042 , -0.3721042 , -0.3721042 , -1.11631261,\n",
       "        0.        , -1.24034735])"
      ]
     },
     "execution_count": 30,
     "metadata": {},
     "output_type": "execute_result"
    }
   ],
   "source": [
    "# Calculate the z-score for each data point.\n",
    "\n",
    "x = a.mean()\n",
    "y = a.std()\n",
    "new_a = (a - x)/y\n",
    "new_a"
   ]
  },
  {
   "cell_type": "code",
   "execution_count": 44,
   "id": "e56b17bd",
   "metadata": {},
   "outputs": [],
   "source": [
    "import numpy as np\n",
    "\n",
    "a = [1, 2, 3, 4, 5, 6, 7, 8, 9, 10]\n",
    "\n",
    "a = np.array(a)"
   ]
  },
  {
   "cell_type": "code",
   "execution_count": 46,
   "id": "7be3f6d1",
   "metadata": {},
   "outputs": [
    {
     "data": {
      "text/plain": [
       "55"
      ]
     },
     "execution_count": 46,
     "metadata": {},
     "output_type": "execute_result"
    }
   ],
   "source": [
    "# Exercise 1 - Make a variable called sum_of_a to hold the sum of all \n",
    "# the numbers in above list\n",
    "\n",
    "sum_of_a = sum(a)\n",
    "sum_of_a"
   ]
  },
  {
   "cell_type": "code",
   "execution_count": 48,
   "id": "e02060ca",
   "metadata": {},
   "outputs": [
    {
     "data": {
      "text/plain": [
       "1"
      ]
     },
     "execution_count": 48,
     "metadata": {},
     "output_type": "execute_result"
    }
   ],
   "source": [
    "# Exercise 2 - Make a variable named min_of_a to hold the minimum of all \n",
    "# the numbers in the above list\n",
    "\n",
    "min_of_a = min(a)\n",
    "min_of_a"
   ]
  },
  {
   "cell_type": "code",
   "execution_count": 37,
   "id": "dbe23d57",
   "metadata": {},
   "outputs": [
    {
     "data": {
      "text/plain": [
       "10"
      ]
     },
     "execution_count": 37,
     "metadata": {},
     "output_type": "execute_result"
    }
   ],
   "source": [
    "# Exercise 3 - Make a variable named max_of_a to hold the max number of all \n",
    "# the numbers in the above list\n",
    "\n",
    "max_of_a = max(a)\n",
    "max_of_a"
   ]
  },
  {
   "cell_type": "code",
   "execution_count": 43,
   "id": "9b82ad6c",
   "metadata": {},
   "outputs": [
    {
     "data": {
      "text/plain": [
       "5.5"
      ]
     },
     "execution_count": 43,
     "metadata": {},
     "output_type": "execute_result"
    }
   ],
   "source": [
    "# Exercise 4 - Make a variable named mean_of_a to hold the average of all \n",
    "# the numbers in the above list\n",
    "\n",
    "mean_of_a = a.mean()\n",
    "mean_of_a"
   ]
  },
  {
   "cell_type": "code",
   "execution_count": 55,
   "id": "c6772fd2",
   "metadata": {},
   "outputs": [
    {
     "data": {
      "text/plain": [
       "3628800"
      ]
     },
     "execution_count": 55,
     "metadata": {},
     "output_type": "execute_result"
    }
   ],
   "source": [
    "# Exercise 5 - Make a variable named product_of_a to hold the product of \n",
    "# multiplying all the numbers in the above list together\n",
    "\n",
    "product_of_a = np.prod(a)\n",
    "product_of_a"
   ]
  },
  {
   "cell_type": "code",
   "execution_count": 58,
   "id": "5a1bb9c4",
   "metadata": {},
   "outputs": [
    {
     "data": {
      "text/plain": [
       "array([  1,   4,   9,  16,  25,  36,  49,  64,  81, 100])"
      ]
     },
     "execution_count": 58,
     "metadata": {},
     "output_type": "execute_result"
    }
   ],
   "source": [
    "# Exercise 6 - Make a variable named squares_of_a. It should hold each \n",
    "# number in a squared like [1, 4, 9, 16, 25...]\n",
    "\n",
    "squares_of_a = a**2\n",
    "squares_of_a"
   ]
  },
  {
   "cell_type": "code",
   "execution_count": 59,
   "id": "3698c1ad",
   "metadata": {},
   "outputs": [
    {
     "data": {
      "text/plain": [
       "array([1, 3, 5, 7, 9])"
      ]
     },
     "execution_count": 59,
     "metadata": {},
     "output_type": "execute_result"
    }
   ],
   "source": [
    "# Exercise 7 - Make a variable named odds_in_a. It should hold only the odd numbers\n",
    "\n",
    "odds_in_a = a[a % 2 != 0]\n",
    "odds_in_a"
   ]
  },
  {
   "cell_type": "code",
   "execution_count": 60,
   "id": "90347ef8",
   "metadata": {},
   "outputs": [
    {
     "data": {
      "text/plain": [
       "array([ 2,  4,  6,  8, 10])"
      ]
     },
     "execution_count": 60,
     "metadata": {},
     "output_type": "execute_result"
    }
   ],
   "source": [
    "# Exercise 8 - Make a variable named evens_in_a. It should hold only the evens.\n",
    "\n",
    "evens_in_a = a[a % 2 == 0]\n",
    "evens_in_a"
   ]
  },
  {
   "cell_type": "code",
   "execution_count": 103,
   "id": "0a36d97a",
   "metadata": {},
   "outputs": [],
   "source": [
    "b = [\n",
    "    [3, 4, 5],\n",
    "    [6, 7, 8]\n",
    "]"
   ]
  },
  {
   "cell_type": "code",
   "execution_count": 107,
   "id": "11cc594d",
   "metadata": {},
   "outputs": [
    {
     "data": {
      "text/plain": [
       "array([[3, 4, 5],\n",
       "       [6, 7, 8]])"
      ]
     },
     "execution_count": 107,
     "metadata": {},
     "output_type": "execute_result"
    }
   ],
   "source": [
    "b = np.array(b)\n",
    "b"
   ]
  },
  {
   "cell_type": "code",
   "execution_count": 65,
   "id": "cc36f242",
   "metadata": {},
   "outputs": [
    {
     "data": {
      "text/plain": [
       "33"
      ]
     },
     "execution_count": 65,
     "metadata": {},
     "output_type": "execute_result"
    }
   ],
   "source": [
    "# Exercise 1 - refactor the following to use numpy. Use sum_of_b as the variable.\n",
    "# sum_of_b = 0\n",
    "# for row in b:\n",
    "#     sum_of_b += sum(row)\n",
    "\n",
    "sum_of_b = sum(b[0]) + sum (b[1])\n",
    "sum_of_b"
   ]
  },
  {
   "cell_type": "code",
   "execution_count": 85,
   "id": "1b7f9534",
   "metadata": {},
   "outputs": [
    {
     "data": {
      "text/plain": [
       "3"
      ]
     },
     "execution_count": 85,
     "metadata": {},
     "output_type": "execute_result"
    }
   ],
   "source": [
    "# Exercise 2 - refactor the following to use numpy. \n",
    "# min_of_b = min(b[0]) if min(b[0]) <= min(b[1]) else min(b[1])\n",
    "\n",
    "np.min(b)"
   ]
  },
  {
   "cell_type": "code",
   "execution_count": 84,
   "id": "f9f2c593",
   "metadata": {},
   "outputs": [
    {
     "data": {
      "text/plain": [
       "8"
      ]
     },
     "execution_count": 84,
     "metadata": {},
     "output_type": "execute_result"
    }
   ],
   "source": [
    "# Exercise 3 - refactor the following maximum calculation to find the answer with numpy.\n",
    "# max_of_b = max(b[0]) if max(b[0]) >= max(b[1]) else max(b[1])\n",
    "\n",
    "np.max(b)"
   ]
  },
  {
   "cell_type": "code",
   "execution_count": 82,
   "id": "6cea53dc",
   "metadata": {},
   "outputs": [
    {
     "data": {
      "text/plain": [
       "5.5"
      ]
     },
     "execution_count": 82,
     "metadata": {},
     "output_type": "execute_result"
    }
   ],
   "source": [
    "# Exercise 4 - refactor the following using numpy to find the mean of b\n",
    "# mean_of_b = (sum(b[0]) + sum(b[1])) / (len(b[0]) + len(b[1]))\n",
    "\n",
    "np.mean(b)"
   ]
  },
  {
   "cell_type": "code",
   "execution_count": 86,
   "id": "c6400b4c",
   "metadata": {},
   "outputs": [
    {
     "data": {
      "text/plain": [
       "20160"
      ]
     },
     "execution_count": 86,
     "metadata": {},
     "output_type": "execute_result"
    }
   ],
   "source": [
    "# Exercise 5 - refactor the following to use numpy for calculating the product of all numbers multiplied together.\n",
    "# product_of_b = 1\n",
    "# for row in b:\n",
    "#     for number in row:\n",
    "#         product_of_b *= number\n",
    "\n",
    "np.prod(b)"
   ]
  },
  {
   "cell_type": "code",
   "execution_count": 89,
   "id": "2b114045",
   "metadata": {},
   "outputs": [
    {
     "data": {
      "text/plain": [
       "array([[ 9, 16, 25],\n",
       "       [36, 49, 64]])"
      ]
     },
     "execution_count": 89,
     "metadata": {},
     "output_type": "execute_result"
    }
   ],
   "source": [
    "# Exercise 6 - refactor the following to use numpy to find the list of squares \n",
    "# squares_of_b = []\n",
    "# for row in b:\n",
    "#     for number in row:\n",
    "#         squares_of_b.append(number**2)\n",
    "\n",
    "np.square(b)"
   ]
  },
  {
   "cell_type": "code",
   "execution_count": 92,
   "id": "02c92151",
   "metadata": {},
   "outputs": [
    {
     "data": {
      "text/plain": [
       "array([3, 5, 7])"
      ]
     },
     "execution_count": 92,
     "metadata": {},
     "output_type": "execute_result"
    }
   ],
   "source": [
    "# Exercise 7 - refactor using numpy to determine the odds_in_b\n",
    "# odds_in_b = []\n",
    "# for row in b:\n",
    "#     for number in row:\n",
    "#         if(number % 2 != 0):\n",
    "#             odds_in_b.append(number)\n",
    "\n",
    "def remove_evens(x):\n",
    "    x = np.array(x)\n",
    "    return x[x % 2 != 0]\n",
    "\n",
    "new_b = remove_evens(b)\n",
    "new_b"
   ]
  },
  {
   "cell_type": "code",
   "execution_count": 100,
   "id": "67eeb6b3",
   "metadata": {},
   "outputs": [
    {
     "data": {
      "text/plain": [
       "array([4, 6, 8])"
      ]
     },
     "execution_count": 100,
     "metadata": {},
     "output_type": "execute_result"
    }
   ],
   "source": [
    "# Exercise 8 - refactor the following to use numpy to filter only the even numbers\n",
    "# evens_in_b = []\n",
    "# for row in b:\n",
    "#     for number in row:\n",
    "#         if(number % 2 == 0):\n",
    "#             evens_in_b.append(number)\n",
    "\n",
    "def remove_odds(x):\n",
    "    x = np.array(x)\n",
    "    return x[x % 2 == 0]\n",
    "\n",
    "new_b = remove_odds(b)\n",
    "new_b"
   ]
  },
  {
   "cell_type": "code",
   "execution_count": 108,
   "id": "850c4cfa",
   "metadata": {},
   "outputs": [
    {
     "name": "stdout",
     "output_type": "stream",
     "text": [
      "(2, 3)\n"
     ]
    }
   ],
   "source": [
    "# Exercise 9 - print out the shape of the array b.\n",
    "\n",
    "print(b.shape)"
   ]
  },
  {
   "cell_type": "code",
   "execution_count": 109,
   "id": "9ab56c2d",
   "metadata": {},
   "outputs": [
    {
     "name": "stdout",
     "output_type": "stream",
     "text": [
      "[[3 6]\n",
      " [4 7]\n",
      " [5 8]]\n"
     ]
    }
   ],
   "source": [
    "# Exercise 10 - transpose the array b.\n",
    "\n",
    "print(b.transpose())"
   ]
  },
  {
   "cell_type": "code",
   "execution_count": 110,
   "id": "0517b031",
   "metadata": {},
   "outputs": [
    {
     "data": {
      "text/plain": [
       "array([[3, 4, 5, 6, 7, 8]])"
      ]
     },
     "execution_count": 110,
     "metadata": {},
     "output_type": "execute_result"
    }
   ],
   "source": [
    "# Exercise 11 - reshape the array b to be a single list of 6 numbers. (1 x 6)\n",
    "\n",
    "new_b = b.reshape(1,6)\n",
    "new_b"
   ]
  },
  {
   "cell_type": "code",
   "execution_count": 111,
   "id": "a5211f94",
   "metadata": {},
   "outputs": [
    {
     "data": {
      "text/plain": [
       "array([[3],\n",
       "       [4],\n",
       "       [5],\n",
       "       [6],\n",
       "       [7],\n",
       "       [8]])"
      ]
     },
     "execution_count": 111,
     "metadata": {},
     "output_type": "execute_result"
    }
   ],
   "source": [
    "# Exercise 12 - reshape the array b to be a list of 6 lists, each containing only 1 number (6 x 1)\n",
    "\n",
    "new_b = b.reshape(6,1)\n",
    "new_b"
   ]
  },
  {
   "cell_type": "code",
   "execution_count": 113,
   "id": "a2dc4543",
   "metadata": {},
   "outputs": [],
   "source": [
    "c = [\n",
    "    [1, 2, 3],\n",
    "    [4, 5, 6],\n",
    "    [7, 8, 9]\n",
    "]"
   ]
  },
  {
   "cell_type": "code",
   "execution_count": 121,
   "id": "4f0d54b2",
   "metadata": {},
   "outputs": [
    {
     "data": {
      "text/plain": [
       "array([[1, 2, 3],\n",
       "       [4, 5, 6],\n",
       "       [7, 8, 9]])"
      ]
     },
     "execution_count": 121,
     "metadata": {},
     "output_type": "execute_result"
    }
   ],
   "source": [
    "np.array(c)"
   ]
  },
  {
   "cell_type": "code",
   "execution_count": 116,
   "id": "a5e841fe",
   "metadata": {},
   "outputs": [
    {
     "data": {
      "text/plain": [
       "(1, 9, 45, 362880)"
      ]
     },
     "execution_count": 116,
     "metadata": {},
     "output_type": "execute_result"
    }
   ],
   "source": [
    "# Exercise 1 - Find the min, max, sum, and product of c.\n",
    "\n",
    "np.min(c), np.max(c), np.sum(c), np.product(c)"
   ]
  },
  {
   "cell_type": "code",
   "execution_count": 117,
   "id": "ecd41152",
   "metadata": {},
   "outputs": [
    {
     "data": {
      "text/plain": [
       "2.581988897471611"
      ]
     },
     "execution_count": 117,
     "metadata": {},
     "output_type": "execute_result"
    }
   ],
   "source": [
    "# Exercise 2 - Determine the standard deviation of c.\n",
    "\n",
    "np.std(c)"
   ]
  },
  {
   "cell_type": "code",
   "execution_count": 118,
   "id": "af04f4cb",
   "metadata": {},
   "outputs": [],
   "source": [
    "# Exercise 3 - Determine the variance of c.\n"
   ]
  },
  {
   "cell_type": "code",
   "execution_count": 123,
   "id": "7493b891",
   "metadata": {},
   "outputs": [
    {
     "name": "stdout",
     "output_type": "stream",
     "text": [
      "(3, 3)\n"
     ]
    }
   ],
   "source": [
    "# Exercise 4 - Print out the shape of the array c\n",
    "\n",
    "print(np.shape(c))"
   ]
  },
  {
   "cell_type": "code",
   "execution_count": 127,
   "id": "46657b6b",
   "metadata": {},
   "outputs": [
    {
     "name": "stdout",
     "output_type": "stream",
     "text": [
      "[[1 4 7]\n",
      " [2 5 8]\n",
      " [3 6 9]]\n"
     ]
    }
   ],
   "source": [
    "# Exercise 5 - Transpose c and print out transposed result.\n",
    "\n",
    "print(np.transpose(c))\n"
   ]
  },
  {
   "cell_type": "code",
   "execution_count": 128,
   "id": "703fd20b",
   "metadata": {},
   "outputs": [
    {
     "data": {
      "text/plain": [
       "array([[ 30,  36,  42],\n",
       "       [ 66,  81,  96],\n",
       "       [102, 126, 150]])"
      ]
     },
     "execution_count": 128,
     "metadata": {},
     "output_type": "execute_result"
    }
   ],
   "source": [
    "# Exercise 6 - Get the dot product of the array c with c.\n",
    "\n",
    "np.dot(c,c)"
   ]
  },
  {
   "cell_type": "code",
   "execution_count": 139,
   "id": "cee8bfe6",
   "metadata": {},
   "outputs": [
    {
     "data": {
      "text/plain": [
       "261"
      ]
     },
     "execution_count": 139,
     "metadata": {},
     "output_type": "execute_result"
    }
   ],
   "source": [
    "# Exercise 7 - Write the code necessary to sum up the result of c times c transposed. \n",
    "# Answer should be 261\n",
    "\n",
    "np.sum(c * np.transpose(c))"
   ]
  },
  {
   "cell_type": "code",
   "execution_count": 141,
   "id": "5f625e17",
   "metadata": {},
   "outputs": [
    {
     "data": {
      "text/plain": [
       "131681894400"
      ]
     },
     "execution_count": 141,
     "metadata": {},
     "output_type": "execute_result"
    }
   ],
   "source": [
    "# Exercise 8 - Write the code necessary to determine the product of c times c transposed.\n",
    "# Answer should be 131681894400.\n",
    "\n",
    "np.product(c * np.transpose(c))"
   ]
  },
  {
   "cell_type": "code",
   "execution_count": 173,
   "id": "936f4e2a",
   "metadata": {},
   "outputs": [],
   "source": [
    "d = [\n",
    "    [90, 30, 45, 0, 120, 180],\n",
    "    [45, -90, -30, 270, 90, 0],\n",
    "    [60, 45, -45, 90, -45, 180]\n",
    "]"
   ]
  },
  {
   "cell_type": "code",
   "execution_count": 177,
   "id": "630235ef",
   "metadata": {},
   "outputs": [
    {
     "data": {
      "text/plain": [
       "array([[ 90,  30,  45,   0, 120, 180],\n",
       "       [ 45, -90, -30, 270,  90,   0],\n",
       "       [ 60,  45, -45,  90, -45, 180]])"
      ]
     },
     "execution_count": 177,
     "metadata": {},
     "output_type": "execute_result"
    }
   ],
   "source": [
    "d = np.array(d)\n",
    "d"
   ]
  },
  {
   "cell_type": "code",
   "execution_count": 146,
   "id": "9cad7b87",
   "metadata": {},
   "outputs": [
    {
     "data": {
      "text/plain": [
       "array([[ 0.89399666, -0.98803162,  0.85090352,  0.        ,  0.58061118,\n",
       "        -0.80115264],\n",
       "       [ 0.85090352, -0.89399666,  0.98803162, -0.17604595,  0.89399666,\n",
       "         0.        ],\n",
       "       [-0.30481062,  0.85090352, -0.85090352,  0.89399666, -0.85090352,\n",
       "        -0.80115264]])"
      ]
     },
     "execution_count": 146,
     "metadata": {},
     "output_type": "execute_result"
    }
   ],
   "source": [
    "# Exercise 1 - Find the sine of all the numbers in d\n",
    "\n",
    "np.sin(d)"
   ]
  },
  {
   "cell_type": "code",
   "execution_count": 147,
   "id": "afddf8ba",
   "metadata": {},
   "outputs": [
    {
     "data": {
      "text/plain": [
       "array([[-0.44807362,  0.15425145,  0.52532199,  1.        ,  0.81418097,\n",
       "        -0.59846007],\n",
       "       [ 0.52532199, -0.44807362,  0.15425145,  0.98438195, -0.44807362,\n",
       "         1.        ],\n",
       "       [-0.95241298,  0.52532199,  0.52532199, -0.44807362,  0.52532199,\n",
       "        -0.59846007]])"
      ]
     },
     "execution_count": 147,
     "metadata": {},
     "output_type": "execute_result"
    }
   ],
   "source": [
    "# Exercise 2 - Find the cosine of all the numbers in d\n",
    "\n",
    "np.cos(d)"
   ]
  },
  {
   "cell_type": "code",
   "execution_count": 148,
   "id": "6f9882d3",
   "metadata": {},
   "outputs": [
    {
     "data": {
      "text/plain": [
       "array([[-1.99520041, -6.4053312 ,  1.61977519,  0.        ,  0.71312301,\n",
       "         1.33869021],\n",
       "       [ 1.61977519,  1.99520041,  6.4053312 , -0.17883906, -1.99520041,\n",
       "         0.        ],\n",
       "       [ 0.32004039,  1.61977519, -1.61977519, -1.99520041, -1.61977519,\n",
       "         1.33869021]])"
      ]
     },
     "execution_count": 148,
     "metadata": {},
     "output_type": "execute_result"
    }
   ],
   "source": [
    "# Exercise 3 - Find the tangent of all the numbers in d\n",
    "\n",
    "np.tan(d)"
   ]
  },
  {
   "cell_type": "code",
   "execution_count": 182,
   "id": "4c1b7255",
   "metadata": {},
   "outputs": [
    {
     "data": {
      "text/plain": [
       "array([-90, -30, -45, -45])"
      ]
     },
     "execution_count": 182,
     "metadata": {},
     "output_type": "execute_result"
    }
   ],
   "source": [
    "# Exercise 4 - Find all the negative numbers in d\n",
    "\n",
    "new_d = d.reshape(1,18)\n",
    "new_d\n",
    "new_d[new_d < 0]"
   ]
  },
  {
   "cell_type": "code",
   "execution_count": 183,
   "id": "8b1692d9",
   "metadata": {},
   "outputs": [
    {
     "data": {
      "text/plain": [
       "array([ 90,  30,  45, 120, 180,  45, 270,  90,  60,  45,  90, 180])"
      ]
     },
     "execution_count": 183,
     "metadata": {},
     "output_type": "execute_result"
    }
   ],
   "source": [
    "# Exercise 5 - Find all the positive numbers in d\n",
    "\n",
    "new_d = d.reshape(1,18)\n",
    "new_d\n",
    "new_d[new_d > 0]"
   ]
  },
  {
   "cell_type": "code",
   "execution_count": 187,
   "id": "82317952",
   "metadata": {},
   "outputs": [
    {
     "data": {
      "text/plain": [
       "array([-90, -45, -30,   0,  30,  45,  60,  90, 120, 180, 270])"
      ]
     },
     "execution_count": 187,
     "metadata": {},
     "output_type": "execute_result"
    }
   ],
   "source": [
    "# Exercise 6 - Return an array of only the unique numbers in d.\n",
    "\n",
    "np.unique(d)"
   ]
  },
  {
   "cell_type": "code",
   "execution_count": 193,
   "id": "0b1e27ab",
   "metadata": {},
   "outputs": [
    {
     "data": {
      "text/plain": [
       "10"
      ]
     },
     "execution_count": 193,
     "metadata": {},
     "output_type": "execute_result"
    }
   ],
   "source": [
    "# Exercise 7 - Determine how many unique numbers there are in d.\n",
    "\n",
    "np.count_nonzero(np.unique(d))\n",
    "\n",
    "# could not figure out how to include zero into the count"
   ]
  },
  {
   "cell_type": "code",
   "execution_count": 194,
   "id": "4a8e18f6",
   "metadata": {},
   "outputs": [
    {
     "data": {
      "text/plain": [
       "(3, 6)"
      ]
     },
     "execution_count": 194,
     "metadata": {},
     "output_type": "execute_result"
    }
   ],
   "source": [
    "# Exercise 8 - Print out the shape of d.\n",
    "\n",
    "np.shape(d)"
   ]
  },
  {
   "cell_type": "code",
   "execution_count": 195,
   "id": "2e49a04e",
   "metadata": {},
   "outputs": [
    {
     "data": {
      "text/plain": [
       "array([[ 90,  45,  60],\n",
       "       [ 30, -90,  45],\n",
       "       [ 45, -30, -45],\n",
       "       [  0, 270,  90],\n",
       "       [120,  90, -45],\n",
       "       [180,   0, 180]])"
      ]
     },
     "execution_count": 195,
     "metadata": {},
     "output_type": "execute_result"
    }
   ],
   "source": [
    "# Exercise 9 - Transpose and then print out the shape of d.\n",
    "\n",
    "np.transpose(d)"
   ]
  },
  {
   "cell_type": "code",
   "execution_count": 196,
   "id": "2d35718b",
   "metadata": {},
   "outputs": [
    {
     "data": {
      "text/plain": [
       "array([[ 90,  30],\n",
       "       [ 45,   0],\n",
       "       [120, 180],\n",
       "       [ 45, -90],\n",
       "       [-30, 270],\n",
       "       [ 90,   0],\n",
       "       [ 60,  45],\n",
       "       [-45,  90],\n",
       "       [-45, 180]])"
      ]
     },
     "execution_count": 196,
     "metadata": {},
     "output_type": "execute_result"
    }
   ],
   "source": [
    "d.reshape(9,2)"
   ]
  },
  {
   "cell_type": "code",
   "execution_count": null,
   "id": "7fd0fdd0",
   "metadata": {},
   "outputs": [],
   "source": []
  }
 ],
 "metadata": {
  "kernelspec": {
   "display_name": "Python 3 (ipykernel)",
   "language": "python",
   "name": "python3"
  },
  "language_info": {
   "codemirror_mode": {
    "name": "ipython",
    "version": 3
   },
   "file_extension": ".py",
   "mimetype": "text/x-python",
   "name": "python",
   "nbconvert_exporter": "python",
   "pygments_lexer": "ipython3",
   "version": "3.9.12"
  }
 },
 "nbformat": 4,
 "nbformat_minor": 5
}
